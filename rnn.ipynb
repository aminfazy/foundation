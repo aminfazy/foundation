{
  "nbformat": 4,
  "nbformat_minor": 0,
  "metadata": {
    "colab": {
      "name": "rnn.ipynb",
      "version": "0.3.2",
      "provenance": [],
      "collapsed_sections": [],
      "include_colab_link": true
    },
    "kernelspec": {
      "name": "python3",
      "display_name": "Python 3"
    }
  },
  "cells": [
    {
      "cell_type": "markdown",
      "metadata": {
        "id": "view-in-github",
        "colab_type": "text"
      },
      "source": [
        "<a href=\"https://colab.research.google.com/github/nrjcs/foundation_aiml/blob/master/rnn.ipynb\" target=\"_parent\"><img src=\"https://colab.research.google.com/assets/colab-badge.svg\" alt=\"Open In Colab\"/></a>"
      ]
    },
    {
      "cell_type": "markdown",
      "metadata": {
        "id": "Tn1Vf9BRoxnU",
        "colab_type": "text"
      },
      "source": [
        "This is RNN example based on the example from https://github.com/fchollet/deep-learning-with-python-notebooks/blob/master/6.2-understanding-recurrent-neural-networks.ipynb\n",
        "  "
      ]
    },
    {
      "cell_type": "code",
      "metadata": {
        "id": "6teOUcJ-kssi",
        "colab_type": "code",
        "colab": {
          "base_uri": "https://localhost:8080/",
          "height": 34
        },
        "outputId": "190a7d89-e3ce-4137-ee5e-95c38b5601ad"
      },
      "source": [
        "from keras.models import Sequential # importing Sequential model from keras models\n",
        "from keras.layers import Embedding, SimpleRNN # importing Embedding layer and SimpleRNN layer from keras layers"
      ],
      "execution_count": 1,
      "outputs": [
        {
          "output_type": "stream",
          "text": [
            "Using TensorFlow backend.\n"
          ],
          "name": "stderr"
        }
      ]
    },
    {
      "cell_type": "markdown",
      "metadata": {
        "id": "-W46iYQa_yGT",
        "colab_type": "text"
      },
      "source": [
        "# Embedding Layer\n",
        "\n",
        "> details @ https://keras.io/layers/embeddings/\n",
        "\n",
        "> used to create an embedding....embed higher dimensional data into lower dimensional vector space\n",
        "\n",
        "> Embedding layer is the first layer in the model\n",
        "\n",
        "> Keras provides method to add an embedding layer\n",
        "\n",
        "> keras.layers.Embedding(input_dim, output_dim, embeddings_initializer='uniform', .... , input_length=None)\n",
        "\n",
        "> * input_dim: An interger greater than 0 which specifies the size of the vocabulary, i.e. maximum integer index + 1 such that data is integer encoded from 0 - maximum integer index. It can be thought of as the number of distinct words.\n",
        "\n",
        "> * output_dim: An integer greater than 0 which specifies the dimension of vector space in which words will be embedded\n",
        "\n",
        "> * embeddings_initializer: Initializer for the embeddings matrix...Keras provides support to many initializers such as uniform, RandomNormal, RandomUniform, and so on (details @ https://keras.io/initializers/) \n",
        "\n",
        "\n",
        "> * input_length: Length of input sequences, when it is constant. This argument is required if you are going to connect Flatten then Dense layers upstream (without it, the shape of the dense outputs cannot be computed)\n",
        "\n"
      ]
    },
    {
      "cell_type": "markdown",
      "metadata": {
        "id": "-rUy_kYLF7sj",
        "colab_type": "text"
      },
      "source": [
        "# SimpleRNN\n",
        "\n",
        "\n",
        "---\n",
        "\n",
        "> to add simple recurrent neural network layers\n",
        "\n",
        "> keras.layers.SimpleRNN(units, activation='tanh', use_bias=True, kernel_initializer='glorot_uniform', recurrent_initializer='orthogonal', bias_initializer='zeros', return_sequences=False, return_state=False, ......)\n",
        "\n",
        "> * details @ https://keras.io/layers/recurrent/\n",
        "\n",
        "> * creates Fully-connected RNN where the output is to be fed back to input.\n",
        "\n",
        "> * units: Positive integer, dimensionality of the output space.\n",
        "\n",
        "> * activation: Activation function to use (see activations). Default: hyperbolic tangent (tanh). If you pass None, no activation is applied (ie. \"linear\" activation: a(x) = x).\n",
        "\n",
        "> * use_bias: Boolean, whether the layer uses a bias vector.\n",
        "\n",
        "> * kernel_initializer: Initializer for the kernel weights matrix, used for the linear transformation of the inputs\n",
        "\n",
        "> * return_sequences: Boolean. If true,  returns the full sequences of successive outputs for each timestep (a 3D tensor of shape (batch_size, timesteps, output_features)), however, if false returns only the last output for each input sequence (a 2D tensor of shape (batch_size, output_features))\n",
        "\n"
      ]
    },
    {
      "cell_type": "code",
      "metadata": {
        "id": "YvU7IeJcNsQP",
        "colab_type": "code",
        "colab": {
          "base_uri": "https://localhost:8080/",
          "height": 299
        },
        "outputId": "4cfa88c9-66cf-4041-9744-0576ff8308a5"
      },
      "source": [
        "\n",
        "!pip install numpy==1.16.1\n",
        "import numpy as np"
      ],
      "execution_count": 2,
      "outputs": [
        {
          "output_type": "stream",
          "text": [
            "Collecting numpy==1.16.1\n",
            "\u001b[?25l  Downloading https://files.pythonhosted.org/packages/f5/bf/4981bcbee43934f0adb8f764a1e70ab0ee5a448f6505bd04a87a2fda2a8b/numpy-1.16.1-cp36-cp36m-manylinux1_x86_64.whl (17.3MB)\n",
            "\u001b[K     |████████████████████████████████| 17.3MB 2.8MB/s \n",
            "\u001b[31mERROR: datascience 0.10.6 has requirement folium==0.2.1, but you'll have folium 0.8.3 which is incompatible.\u001b[0m\n",
            "\u001b[31mERROR: albumentations 0.1.12 has requirement imgaug<0.2.7,>=0.2.5, but you'll have imgaug 0.2.9 which is incompatible.\u001b[0m\n",
            "\u001b[?25hInstalling collected packages: numpy\n",
            "  Found existing installation: numpy 1.16.4\n",
            "    Uninstalling numpy-1.16.4:\n",
            "      Successfully uninstalled numpy-1.16.4\n",
            "Successfully installed numpy-1.16.1\n"
          ],
          "name": "stdout"
        },
        {
          "output_type": "display_data",
          "data": {
            "application/vnd.colab-display-data+json": {
              "pip_warning": {
                "packages": [
                  "numpy"
                ]
              }
            }
          },
          "metadata": {
            "tags": []
          }
        }
      ]
    },
    {
      "cell_type": "markdown",
      "metadata": {
        "id": "3CD_Xzp1oje6",
        "colab_type": "text"
      },
      "source": [
        "> Remember to execute previous cells after \"RESTART RUNTIME\""
      ]
    },
    {
      "cell_type": "code",
      "metadata": {
        "id": "eleKvl3iMOUi",
        "colab_type": "code",
        "colab": {
          "base_uri": "https://localhost:8080/",
          "height": 156
        },
        "outputId": "50951cc6-f08a-4ea6-811d-6877f6e49b78"
      },
      "source": [
        "# using a RNN model on the IMDB movie review classification problem\n",
        "\n",
        "# data  preprocessing\n",
        "\n",
        "from keras.datasets import imdb\n",
        "from keras.preprocessing import sequence\n",
        "\n",
        "max_features = 10000  # number of words to consider as features\n",
        "maxlen = 500  # cut texts after this number of words (among top max_features most common words)\n",
        "batch_size = 32\n",
        "\n",
        "print('Loading data...')\n",
        "(input_train, y_train), (input_test, y_test) = imdb.load_data(num_words=max_features)\n",
        "print(len(input_train), 'train sequences')\n",
        "print(len(input_test), 'test sequences')\n",
        "\n",
        "print('Pad sequences (samples x time)')\n",
        "# pad_sequences is used to ensure that all sequences in a list have the same length. \n",
        "# Keras sequence.pad_sequence(): This function transforms a list of num_samples sequences (lists of integers) into a 2D \n",
        "# Numpy array of shape (num_samples, num_timesteps). num_timesteps is either the maxlen argument if provided, or the\n",
        "# length of the longest sequence otherwise.\n",
        "input_train = sequence.pad_sequences(input_train, maxlen=maxlen)\n",
        "input_test = sequence.pad_sequences(input_test, maxlen=maxlen)\n",
        "print('input_train shape:', input_train.shape)\n",
        "print('input_test shape:', input_test.shape)\n"
      ],
      "execution_count": 2,
      "outputs": [
        {
          "output_type": "stream",
          "text": [
            "Loading data...\n",
            "Downloading data from https://s3.amazonaws.com/text-datasets/imdb.npz\n",
            "17465344/17464789 [==============================] - 0s 0us/step\n",
            "25000 train sequences\n",
            "25000 test sequences\n",
            "Pad sequences (samples x time)\n",
            "input_train shape: (25000, 500)\n",
            "input_test shape: (25000, 500)\n"
          ],
          "name": "stdout"
        }
      ]
    },
    {
      "cell_type": "code",
      "metadata": {
        "id": "S5EYei_0LxwS",
        "colab_type": "code",
        "colab": {
          "base_uri": "https://localhost:8080/",
          "height": 89
        },
        "outputId": "cdb811f0-2497-4ef2-8422-63989be4f711"
      },
      "source": [
        "# define a simple recurrent network using an Embedding layer and a SimpleRNN layer\n",
        "from keras.layers import Dense\n",
        "\n",
        "model = Sequential()\n",
        "model.add(Embedding(max_features, 32))\n",
        "model.add(SimpleRNN(32))\n",
        "model.add(Dense(1, activation='sigmoid'))\n",
        "\n"
      ],
      "execution_count": 3,
      "outputs": [
        {
          "output_type": "stream",
          "text": [
            "WARNING:tensorflow:From /usr/local/lib/python3.6/dist-packages/tensorflow/python/framework/op_def_library.py:263: colocate_with (from tensorflow.python.framework.ops) is deprecated and will be removed in a future version.\n",
            "Instructions for updating:\n",
            "Colocations handled automatically by placer.\n"
          ],
          "name": "stdout"
        }
      ]
    },
    {
      "cell_type": "code",
      "metadata": {
        "id": "up835lxOM7-M",
        "colab_type": "code",
        "colab": {}
      },
      "source": [
        "# configure learning\n",
        "model.compile(optimizer='rmsprop', loss='binary_crossentropy', metrics=['acc'])\n",
        "\n"
      ],
      "execution_count": 0,
      "outputs": []
    },
    {
      "cell_type": "code",
      "metadata": {
        "id": "PN18I3gvM8vb",
        "colab_type": "code",
        "colab": {
          "base_uri": "https://localhost:8080/",
          "height": 382
        },
        "outputId": "3057df06-0803-4c2e-bc8c-63f9e2d329c4"
      },
      "source": [
        "# train \n",
        "history = model.fit(input_train, y_train, epochs=10, batch_size=128, validation_split=0.2)"
      ],
      "execution_count": 6,
      "outputs": [
        {
          "output_type": "stream",
          "text": [
            "Train on 20000 samples, validate on 5000 samples\n",
            "Epoch 1/10\n",
            "20000/20000 [==============================] - 17s 875us/step - loss: 0.1226 - acc: 0.9563 - val_loss: 0.5008 - val_acc: 0.8448\n",
            "Epoch 2/10\n",
            "20000/20000 [==============================] - 17s 871us/step - loss: 0.0861 - acc: 0.9714 - val_loss: 0.4826 - val_acc: 0.8312\n",
            "Epoch 3/10\n",
            "20000/20000 [==============================] - 17s 874us/step - loss: 0.0480 - acc: 0.9862 - val_loss: 0.5281 - val_acc: 0.8320\n",
            "Epoch 4/10\n",
            "20000/20000 [==============================] - 17s 871us/step - loss: 0.0299 - acc: 0.9915 - val_loss: 0.5793 - val_acc: 0.8362\n",
            "Epoch 5/10\n",
            "20000/20000 [==============================] - 17s 873us/step - loss: 0.0186 - acc: 0.9947 - val_loss: 0.6430 - val_acc: 0.8204\n",
            "Epoch 6/10\n",
            "20000/20000 [==============================] - 17s 871us/step - loss: 0.0175 - acc: 0.9949 - val_loss: 0.7825 - val_acc: 0.7928\n",
            "Epoch 7/10\n",
            "20000/20000 [==============================] - 17s 868us/step - loss: 0.0190 - acc: 0.9942 - val_loss: 0.8613 - val_acc: 0.7630\n",
            "Epoch 8/10\n",
            "20000/20000 [==============================] - 17s 866us/step - loss: 0.0067 - acc: 0.9982 - val_loss: 0.8038 - val_acc: 0.8072\n",
            "Epoch 9/10\n",
            "20000/20000 [==============================] - 17s 865us/step - loss: 0.0099 - acc: 0.9966 - val_loss: 0.9451 - val_acc: 0.7648\n",
            "Epoch 10/10\n",
            "20000/20000 [==============================] - 17s 867us/step - loss: 0.0058 - acc: 0.9985 - val_loss: 0.8984 - val_acc: 0.7892\n"
          ],
          "name": "stdout"
        }
      ]
    },
    {
      "cell_type": "code",
      "metadata": {
        "id": "6kl78tieNM32",
        "colab_type": "code",
        "colab": {
          "base_uri": "https://localhost:8080/",
          "height": 545
        },
        "outputId": "bb2e277e-a06c-442c-f4c6-c674c72ae3be"
      },
      "source": [
        "# plot raining and validation loss and accuracy\n",
        "import matplotlib.pyplot as plt\n",
        "\n",
        "acc = history.history['acc']\n",
        "val_acc = history.history['val_acc']\n",
        "loss = history.history['loss']\n",
        "val_loss = history.history['val_loss']\n",
        "\n",
        "epochs = range(len(acc))\n",
        "\n",
        "plt.plot(epochs, acc, 'bo', label='Training acc')\n",
        "plt.plot(epochs, val_acc, 'b', label='Validation acc')\n",
        "plt.title('Training and validation accuracy')\n",
        "plt.legend()\n",
        "\n",
        "plt.figure()\n",
        "\n",
        "plt.plot(epochs, loss, 'bo', label='Training loss')\n",
        "plt.plot(epochs, val_loss, 'b', label='Validation loss')\n",
        "plt.title('Training and validation loss')\n",
        "plt.legend()\n",
        "\n",
        "plt.show()"
      ],
      "execution_count": 7,
      "outputs": [
        {
          "output_type": "display_data",
          "data": {
            "image/png": "[encoded data removed]",
            "text/plain": [
              "<Figure size 432x288 with 1 Axes>"
            ]
          },
          "metadata": {
            "tags": []
          }
        },
        {
          "output_type": "display_data",
          "data": {
            "image/png": "[encoded data removed]",
            "text/plain": [
              "<Figure size 432x288 with 1 Axes>"
            ]
          },
          "metadata": {
            "tags": []
          }
        }
      ]
    },
    {
      "cell_type": "code",
      "metadata": {
        "id": "jlaO06FaT4IP",
        "colab_type": "code",
        "colab": {
          "base_uri": "https://localhost:8080/",
          "height": 52
        },
        "outputId": "f57b2089-fd02-466e-c675-b0f60a672b3f"
      },
      "source": [
        "# Evaluate model\n",
        "scores = model.evaluate(input_test, y_test)\n",
        "print(\"Error: %.2f%%\" % (100-scores[1]*100))"
      ],
      "execution_count": 9,
      "outputs": [
        {
          "output_type": "stream",
          "text": [
            "25000/25000 [==============================] - 13s 508us/step\n",
            "Error: 21.91%\n"
          ],
          "name": "stdout"
        }
      ]
    },
    {
      "cell_type": "markdown",
      "metadata": {
        "id": "5mSer0diSpmv",
        "colab_type": "text"
      },
      "source": [
        "**Few Sources to Explore**\n",
        "\n",
        "\n",
        "---\n",
        "\n",
        " https://github.com/fchollet/deep-learning-with-python-notebooks/blob/master/6.2-understanding-recurrent-neural-networks.ipynb\n",
        "\n",
        "https://machinelearningmastery.com/use-word-embedding-layers-deep-learning-keras/\n",
        "\n",
        "https://keras.io/layers/embeddings/\n",
        "\n",
        "https://keras.io/initializers/\n",
        "\n"
      ]
    }
  ]
}