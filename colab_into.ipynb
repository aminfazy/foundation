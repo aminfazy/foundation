{
  "nbformat": 4,
  "nbformat_minor": 0,
  "metadata": {
    "colab": {
      "name": "colab_intro.ipynb",
      "provenance": [],
      "collapsed_sections": [],
      "toc_visible": true,
      "include_colab_link": true
    },
    "kernelspec": {
      "name": "python3",
      "display_name": "Python 3"
    }
  },
  "cells": [
    {
      "cell_type": "markdown",
      "metadata": {
        "id": "view-in-github",
        "colab_type": "text"
      },
      "source": [
        "<a href=\"https://colab.research.google.com/github/nrjcs/iitpbse/blob/master/colab_intro.ipynb\" target=\"_parent\"><img src=\"https://colab.research.google.com/assets/colab-badge.svg\" alt=\"Open In Colab\"/></a>"
      ]
    },
    {
      "cell_type": "markdown",
      "metadata": {
        "id": "zBna-RdlIGag",
        "colab_type": "text"
      },
      "source": [
        "# This is a brief introductin to Google colaboratory\n",
        "\n",
        "Details @ [Colab Home Page](https://colab.research.google.com/notebooks/intro.ipynb) "
      ]
    },
    {
      "cell_type": "markdown",
      "metadata": {
        "id": "t77ASLCuEkUp",
        "colab_type": "text"
      },
      "source": [
        "**Colaboratory** or **Colab** is\n",
        "\n",
        "\n",
        "*   a Google's product\n",
        "*   allows you to write and execute Python code in your browser\n",
        "*   free cloud service with GPU support for AI developers\n",
        "*   provides hardware and software support\n",
        "\n",
        "Primary Advantages:\n",
        "* No configuration/installation is required\n",
        "* Free access to GPU\n",
        "* Easy sharing\n",
        "* support to many neural network libraries such as Keras, PyTorch, OpenCV\n",
        "\n"
      ]
    },
    {
      "cell_type": "markdown",
      "metadata": {
        "id": "EkIud0PgG1A0",
        "colab_type": "text"
      },
      "source": [
        "Accessibility\n",
        "* To use Colab you must be logged in to your Google account\n",
        "* Integrated with other Google products, mainly the Google Drive, so that your files are stored in the Drive\n",
        "* Default folder is Colab Notebooks`\n",
        "* In addition, coupled with Github\n",
        "\n"
      ]
    },
    {
      "cell_type": "markdown",
      "metadata": {
        "id": "mcURx4uQHQom",
        "colab_type": "text"
      },
      "source": [
        "Colab is build on the top of [Jupyter Notebook](https://jupyter.org)\n",
        "* The Jupyter Notebook is an open-source web application that allows you to create and share documents that contain live code, equations, visualizations and narrative text. Uses include: data cleaning and transformation, numerical simulation, statistical modeling, data visualization, machine learning, and much more."
      ]
    },
    {
      "cell_type": "markdown",
      "metadata": {
        "id": "I3FoUJ6VJffa",
        "colab_type": "text"
      },
      "source": [
        "* Likewise, Notebook in Colab consists of a set of cells.\n",
        "\n",
        "* A cell can be a code cell (that contains executable code) or a text cell (that contains explanatory text)\n",
        "\n",
        "* So far all the cells are text cells\n",
        "\n",
        "* Following is an example of a code cell"
      ]
    },
    {
      "cell_type": "code",
      "metadata": {
        "id": "TP424BzpHzTu",
        "colab_type": "code",
        "colab": {}
      },
      "source": [
        "print (\"welcome\")"
      ],
      "execution_count": 0,
      "outputs": []
    },
    {
      "cell_type": "markdown",
      "metadata": {
        "id": "PmEu0INzKfpA",
        "colab_type": "text"
      },
      "source": [
        "* To execute the corresponding code, the cell is selected by clicking it\n",
        "\n",
        "* Code can be executed by pressing the Play icon or with Ctrl+Enter\n",
        "* In addition, Shift+Enter executes the current cell and moves the focus to the next cell or adds a new cell if none exists\n",
        "* Likewise, Alt+Enter executes the code and insert a new code cell immediately below it.\n"
      ]
    },
    {
      "cell_type": "markdown",
      "metadata": {
        "id": "YojHYySpKheI",
        "colab_type": "text"
      },
      "source": [
        "* A text cell can be edited by double click\n",
        "\n",
        "* New text cell can be added by click + Text icon\n",
        "\n",
        "* Likewise new code cell can be added by clicking + Code icon at the top\n",
        "\n",
        "![img1](https://drive.google.com/uc?id=1yuyAAfV3KR4esYT1yhc9oBA8aOeB24hM)\n",
        "\n",
        "* Other functions such as moving cells, deleting etc can be done by the controls available at the top-right cornor of the corresponding cell\n"
      ]
    },
    {
      "cell_type": "markdown",
      "metadata": {
        "id": "SIEA0D5bI82a",
        "colab_type": "text"
      },
      "source": [
        "**Linking Colab with Drive**\n",
        "* Drive is a handy, yet efficient way to store, access, and manipilate data from the Colab\n",
        "* However, Drive must be linked to Colab\n",
        "* Following is the demonstration example to link the Drive to the Colab\n",
        "* Steps are\n",
        "\n",
        "> > 1.   Execute the code provided in the following cell\n",
        "2.   Click to open the link that appears\n",
        "3. Choose the account to sign in \n",
        "4. Grant permissions\n",
        "5. Copy the success code\n",
        "6. Return to colab tab, paste the code, and press Enter\n",
        "\n",
        "![img2](https://drive.google.com/uc?id=1tiMOlH05rr36K8_ZjWhnAHpcwaaNn-iR)\n",
        "\n",
        "![img3](https://drive.google.com/uc?id=1kpCJVPEehvHqI_sm9tO46z0WO_Z_iLaX)\n",
        "\n",
        "![img4](https://drive.google.com/uc?id=1sUb0ot-wpHquVMbaUytpfiBwG8wG2Tb3)\n",
        "\n",
        "![img5](https://drive.google.com/uc?id=102IZ_xcBDlZZoUaL3sK8DBnL2hVPqkfG)\n",
        "\n",
        "![img6](https://drive.google.com/uc?id=1d4S4Ld4JqboFXF-XEqYOzmfostIb8LMD)\n",
        "\n",
        "![img7](https://drive.google.com/uc?id=1w4HeuftdJLxYJjE5tDsefmDj5yv2KYXg)\n"
      ]
    },
    {
      "cell_type": "code",
      "metadata": {
        "id": "huBysBP3KpW_",
        "colab_type": "code",
        "outputId": "150d72f1-3c48-4ddb-f21a-6dec18d6fff5",
        "colab": {
          "base_uri": "https://localhost:8080/",
          "height": 126
        }
      },
      "source": [
        "# Load the Drive helper and mount\n",
        "from google.colab import drive\n",
        "# This will prompt for authorization.\n",
        "drive.mount('/content/drive')"
      ],
      "execution_count": 0,
      "outputs": [
        {
          "output_type": "stream",
          "text": [
            "Go to this URL in a browser: https://accounts.google.com/o/oauth2/auth?client_id=947318989803-6bn6qk8qdgf4n4g3pfee6491hc0brc4i.apps.googleusercontent.com&redirect_uri=urn%3aietf%3awg%3aoauth%3a2.0%3aoob&response_type=code&scope=email%20https%3a%2f%2fwww.googleapis.com%2fauth%2fdocs.test%20https%3a%2f%2fwww.googleapis.com%2fauth%2fdrive%20https%3a%2f%2fwww.googleapis.com%2fauth%2fdrive.photos.readonly%20https%3a%2f%2fwww.googleapis.com%2fauth%2fpeopleapi.readonly\n",
            "\n",
            "Enter your authorization code:\n",
            "··········\n",
            "Mounted at /content/drive\n"
          ],
          "name": "stdout"
        }
      ]
    },
    {
      "cell_type": "markdown",
      "metadata": {
        "id": "9Bp4i4bbNIJ0",
        "colab_type": "text"
      },
      "source": [
        "* After successful mounting the success message will be printed\n",
        "* Moreover drive appears under the Files tab (left top corner)\n"
      ]
    },
    {
      "cell_type": "code",
      "metadata": {
        "id": "RYGvVXDIN_Sk",
        "colab_type": "code",
        "outputId": "16a86f13-47a8-4896-e186-a594e8bec4c5",
        "colab": {
          "base_uri": "https://localhost:8080/",
          "height": 35
        }
      },
      "source": [
        "# Following is a command to list the files and directories in the Drive (works after mounting)\n",
        "!ls \"/content/drive/My Drive/\""
      ],
      "execution_count": 0,
      "outputs": [
        {
          "output_type": "stream",
          "text": [
            "'Colab Notebooks'   img_data\n"
          ],
          "name": "stdout"
        }
      ]
    }
  ]
}
