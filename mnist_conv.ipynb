{
  "nbformat": 4,
  "nbformat_minor": 0,
  "metadata": {
    "colab": {
      "name": "mnist_conv.ipynb",
      "version": "0.3.2",
      "provenance": [],
      "collapsed_sections": [],
      "include_colab_link": true
    },
    "kernelspec": {
      "name": "python3",
      "display_name": "Python 3"
    }
  },
  "cells": [
    {
      "cell_type": "markdown",
      "metadata": {
        "id": "view-in-github",
        "colab_type": "text"
      },
      "source": [
        "<a href=\"https://colab.research.google.com/github/nrjcs/foundation_aiml/blob/master/mnist_conv.ipynb\" target=\"_parent\"><img src=\"https://colab.research.google.com/assets/colab-badge.svg\" alt=\"Open In Colab\"/></a>"
      ]
    },
    {
      "cell_type": "markdown",
      "metadata": {
        "id": "fRycwUb2gVtN",
        "colab_type": "text"
      },
      "source": [
        "\n",
        "#  keras mnist digit classification with convolution neural network  #\n",
        "\n",
        "\n",
        "---\n",
        "\n",
        "\n",
        "> similar example @ https://keras.io/examples/mnist_cnn/"
      ]
    },
    {
      "cell_type": "code",
      "metadata": {
        "id": "_kjTsII0qfuL",
        "colab_type": "code",
        "outputId": "9303b7fc-8eb5-46b4-cda7-3b4854853fa7",
        "colab": {
          "base_uri": "https://localhost:8080/",
          "height": 86
        }
      },
      "source": [
        "#Load the dataset => as in the case of FCNN\n",
        " \n",
        "from keras.datasets import mnist\n",
        "\n",
        "(X_train, Y_train), (X_test, Y_test) = mnist.load_data() \t#Keras function\n",
        "\n",
        "print (\"mnist data downloaded...\")\n"
      ],
      "execution_count": 0,
      "outputs": [
        {
          "output_type": "stream",
          "text": [
            "Using TensorFlow backend.\n"
          ],
          "name": "stderr"
        },
        {
          "output_type": "stream",
          "text": [
            "Downloading data from https://s3.amazonaws.com/img-datasets/mnist.npz\n",
            "11493376/11490434 [==============================] - 0s 0us/step\n",
            "mnist data downloaded...\n"
          ],
          "name": "stdout"
        }
      ]
    },
    {
      "cell_type": "markdown",
      "metadata": {
        "id": "uPNKn_cKgrVS",
        "colab_type": "text"
      },
      "source": [
        "> refer to # https://keras.io/datasets/#mnist-database-of-handwritten-digits for more details"
      ]
    },
    {
      "cell_type": "code",
      "metadata": {
        "id": "3CwHiVn9sonK",
        "colab_type": "code",
        "outputId": "fd8c5e63-3adc-4b05-d388-4e092019bb95",
        "colab": {
          "base_uri": "https://localhost:8080/",
          "height": 269
        }
      },
      "source": [
        "# this code cell is for visualization of data only...may be skipped\n",
        "import matplotlib.pyplot as plt\n",
        "\n",
        "# plot images...subplot function is being used...nice documentation is available on the official webpage of matplotlib\n",
        "# arguments to subplot functions are number of rows, number of columns and number of subplots in the plot...comma is mandatory if values are less than 10\n",
        "plt.subplot(221)\t\n",
        "plt.imshow(X_train[50], cmap=plt.get_cmap('gray')) # ploting first image of training data set\n",
        "plt.subplot(222)\n",
        "plt.imshow(X_train[1304], cmap=plt.get_cmap('gray'))\t# ploting 135th image in training data set\n",
        "plt.subplot(223)\n",
        "plt.imshow(X_test[244], cmap=plt.get_cmap('gray'))\t# ploting 2445th image of test date set\n",
        "plt.subplot(224)\n",
        "plt.imshow(X_test[39], cmap=plt.get_cmap('gray'))\t# ploting 4th image of test data set\n",
        "# show the plot\n",
        "plt.show()\n"
      ],
      "execution_count": 0,
      "outputs": [
        {
          "output_type": "display_data",
          "data": {
            "image/png": "[encoded data removed]",
            "text/plain": [
              "<Figure size 432x288 with 4 Axes>"
            ]
          },
          "metadata": {
            "tags": []
          }
        }
      ]
    },
    {
      "cell_type": "code",
      "metadata": {
        "id": "1PetdwiQsDjq",
        "colab_type": "code",
        "outputId": "173022c0-3fbd-4e04-e8d4-38e03c17daa4",
        "colab": {
          "base_uri": "https://localhost:8080/",
          "height": 34
        }
      },
      "source": [
        "# Print shape of dataset..it will print three tuples, namely the no. of images in dataset, height and width(60000, 28, 28)\n",
        "\n",
        "print (X_train.shape)"
      ],
      "execution_count": 0,
      "outputs": [
        {
          "output_type": "stream",
          "text": [
            "(60000, 28, 28)\n"
          ],
          "name": "stdout"
        }
      ]
    },
    {
      "cell_type": "code",
      "metadata": {
        "id": "8yMtIFlycEVH",
        "colab_type": "code",
        "outputId": "72d8ed1b-b4d9-49a4-e5b8-c3432f128d19",
        "colab": {
          "base_uri": "https://localhost:8080/",
          "height": 34
        }
      },
      "source": [
        "print (Y_train.shape)"
      ],
      "execution_count": 0,
      "outputs": [
        {
          "output_type": "stream",
          "text": [
            "(60000,)\n"
          ],
          "name": "stdout"
        }
      ]
    },
    {
      "cell_type": "code",
      "metadata": {
        "id": "2xwxGQy2sFIc",
        "colab_type": "code",
        "outputId": "1fcc153f-414b-4744-adbf-e4dafdc3d30e",
        "colab": {
          "base_uri": "https://localhost:8080/",
          "height": 156
        }
      },
      "source": [
        "# defining some parameters\n",
        "rows, cols = 28,28\n",
        "\n",
        "# data preprocessing\n",
        "#reshaping the data...Normalize images\n",
        "X_train = X_train.reshape(60000,28,28,1)\n",
        "X_test = X_test.reshape(10000,28,28,1)\n",
        "X_train = X_train.astype('float32')\n",
        "X_test = X_test.astype('float32')\n",
        "X_train /= 255\n",
        "X_test /= 255\n",
        "\n",
        "print('X_train shape:', X_train.shape)\n",
        "print('X_test shape:', X_test.shape)\n",
        "print(X_train.shape[0], 'training samples')\n",
        "print(X_test.shape[0], 'test samples')\n",
        "\n",
        "input_shape = (rows, cols, 1)\n",
        "num_classes = 10 # number of classess of classification \n",
        "\n",
        "print (Y_train.shape)\n",
        "print (Y_train[0])\n",
        "\n",
        "import keras.utils\n",
        "#Convert class vectors to binary class matrices\n",
        "Y_train = keras.utils.to_categorical(Y_train, num_classes)\n",
        "Y_test = keras.utils.to_categorical(Y_test, num_classes)\n",
        "\n",
        "print (Y_train.shape)\n",
        "print (Y_train[0])"
      ],
      "execution_count": 0,
      "outputs": [
        {
          "output_type": "stream",
          "text": [
            "X_train shape: (60000, 28, 28, 1)\n",
            "X_test shape: (10000, 28, 28, 1)\n",
            "60000 training samples\n",
            "10000 test samples\n",
            "(60000,)\n",
            "5\n",
            "(60000, 10)\n",
            "[0. 0. 0. 0. 0. 1. 0. 0. 0. 0.]\n"
          ],
          "name": "stdout"
        }
      ]
    },
    {
      "cell_type": "markdown",
      "metadata": {
        "id": "AH9sybo1U1uL",
        "colab_type": "text"
      },
      "source": [
        "**for reference reproducing from https://keras.io/layers/convolutional/**\n",
        "\n",
        "> keras.layers.Conv2D(filters, kernel_size, strides=(1, 1), padding='valid', \n",
        "\n",
        "> > activation=None, use_bias=True, kernel_initializer='glorot_uniform', bias_initializer='zeros', ..... )\n",
        "  \n",
        "> creates a convolution kernel that is convolved with the layer input to produce a tensor of outputs. \n",
        "\n",
        "> If use_bias is True, a bias vector is created and added to the outputs. \n",
        "\n",
        "> Finally, if activation is not None, it is applied to the outputs as well.\n",
        "\n",
        "> if first layer, provide the keyword argument input_shape e.g. input_shape=(128, 128, 3) for 128x128 RGB\n",
        "\n",
        "> filters: Integer, the dimensionality of the output space (i.e. the number of output filters in the convolution).\n",
        "\n",
        "> kernel_size: An integer or tuple/list of 2 integers, specifying the height and width of the 2D convolution window. \n",
        "\n",
        "> > Can be a single integer to specify the same value for all spatial dimensions.\n",
        "    \n",
        "> strides: An integer or tuple/list of 2 integers, specifying the strides of the convolution along the height and width. \n",
        "\n",
        "> > Can be a single integer to specify the same value for all spatial dimensions.\n",
        "\n",
        "> padding: one of \"valid\" or \"same\" (case-insensitive).\n",
        "\n",
        "> activation: Activation function to use. If you don't specify anything, no activation is applied (ie. \"linear\" activation: a(x) = x).\n",
        "\n",
        "> use_bias: Boolean, whether the layer uses a bias vector.\n",
        "\n",
        "> kernel_initializer: Initializer for the kernel weights matrix.\n",
        "\n",
        "> bias_initializer: Initializer for the bias vector.\n",
        "\n",
        "> filters and kernel_size parameters are compulsory\n",
        "\n",
        "\n",
        "\n",
        "**MaxPooling2D reproduced from https://keras.io/layers/pooling/** \n",
        "\n",
        "> keras.layers.MaxPooling2D(pool_size=(2, 2), strides=None, padding='valid', data_format=None)\n",
        "\n",
        "> pool_size: integer or tuple of 2 integers, factors by which to downscale (vertical, horizontal). \n",
        "\n",
        "> > If only one integer is specified, the same window length will be used for both dimensions.\n",
        "\n",
        "> strides: Integer, tuple of 2 integers, or None. Strides values. If None, it will default to pool_size.\n",
        "\n",
        "> padding: One of \"valid\" or \"same\"\n",
        "\n",
        "> data_format: A string, one of channels_last (default) or channels_first. The ordering of the dimensions in the inputs.  channels_last\n",
        "        > >  corresponds to inputs with shape  (batch, height, width, channels) while channels_first corresponds to inputs with shape  \n",
        "        > >  (batch, channels, height, width). It defaults to the image_data_format value found in your Keras config file at \n",
        "        > >  ~/.keras/keras.json. If you never set it, then it will be \"channels_last\".\n"
      ]
    },
    {
      "cell_type": "code",
      "metadata": {
        "id": "FtPgp5lStzjk",
        "colab_type": "code",
        "outputId": "7c42f5e5-9567-4b57-a8bd-289fd5a3c982",
        "colab": {
          "base_uri": "https://localhost:8080/",
          "height": 34
        }
      },
      "source": [
        "# Define model architecture\n",
        "\n",
        "from keras.models import Sequential\n",
        "from keras.layers import Dense, Dropout, Flatten\n",
        "from keras.layers import Conv2D, MaxPooling2D\n",
        "\n",
        "model = Sequential()\n",
        "\n",
        "#arch 1\n",
        "model.add(Conv2D(32, kernel_size=(3, 3), activation='relu', input_shape=input_shape))\n",
        "model.add(Conv2D(64, (3, 3), activation='relu'))\n",
        "model.add(MaxPooling2D(pool_size=(2, 2)))\n",
        "model.add(Flatten()) #Flattens the input\n",
        "model.add(Dense(num_classes, activation='softmax'))\n",
        "\n",
        "# another architecture...you may experiment with the following architecture\n",
        "#arch 2\n",
        "#model.add(Conv2D(32, kernel_size=(3, 3), activation='relu', input_shape=input_shape))\n",
        "#model.add(Conv2D(64, (3, 3), activation='relu'))\n",
        "#model.add(MaxPooling2D(pool_size=(2, 2)))\n",
        "#model.add(Dropout(0.25))\n",
        "#model.add(Flatten()) # Flattens the input\n",
        "#model.add(Dense(128, activation='relu'))\n",
        "#model.add(Dropout(0.5))\n",
        "#model.add(Dense(num_classes, activation='softmax'))\n",
        "\n",
        "print (\"keep going...\")"
      ],
      "execution_count": 0,
      "outputs": [
        {
          "output_type": "stream",
          "text": [
            "keep going...\n"
          ],
          "name": "stdout"
        }
      ]
    },
    {
      "cell_type": "code",
      "metadata": {
        "id": "kl0RQYZyuHE1",
        "colab_type": "code",
        "outputId": "3b62581e-18e1-4593-aaf2-c194ae6ef929",
        "colab": {
          "base_uri": "https://localhost:8080/",
          "height": 34
        }
      },
      "source": [
        "# compiling model\n",
        "\n",
        "model.compile(loss=keras.losses.categorical_crossentropy, optimizer=keras.optimizers.Adadelta(), metrics=['accuracy'])\n",
        "\n",
        "print (\"compile successful...\")"
      ],
      "execution_count": 0,
      "outputs": [
        {
          "output_type": "stream",
          "text": [
            "compile successful...\n"
          ],
          "name": "stdout"
        }
      ]
    },
    {
      "cell_type": "code",
      "metadata": {
        "id": "dRCZOEUmuKCD",
        "colab_type": "code",
        "outputId": "7aab2cb4-aa35-45d9-b3ad-beea548615e8",
        "colab": {
          "base_uri": "https://localhost:8080/",
          "height": 819
        }
      },
      "source": [
        "batch_size = 128\n",
        "epochs = 20\n",
        "\n",
        "# taining the network\n",
        "\n",
        "history=model.fit(X_train, Y_train, batch_size=batch_size, epochs=epochs, verbose=1, validation_split=0.2)\n",
        "\n",
        "print (\"training done...\")\n"
      ],
      "execution_count": 0,
      "outputs": [
        {
          "output_type": "stream",
          "text": [
            "WARNING:tensorflow:From /usr/local/lib/python3.6/dist-packages/tensorflow/python/ops/math_ops.py:3066: to_int32 (from tensorflow.python.ops.math_ops) is deprecated and will be removed in a future version.\n",
            "Instructions for updating:\n",
            "Use tf.cast instead.\n",
            "Train on 48000 samples, validate on 12000 samples\n",
            "Epoch 1/20\n",
            "48000/48000 [==============================] - 138s 3ms/step - loss: 0.2486 - acc: 0.9230 - val_loss: 0.0804 - val_acc: 0.9771\n",
            "Epoch 2/20\n",
            "48000/48000 [==============================] - 137s 3ms/step - loss: 0.0649 - acc: 0.9803 - val_loss: 0.0571 - val_acc: 0.9831\n",
            "Epoch 3/20\n",
            "48000/48000 [==============================] - 137s 3ms/step - loss: 0.0478 - acc: 0.9857 - val_loss: 0.0699 - val_acc: 0.9787\n",
            "Epoch 4/20\n",
            "48000/48000 [==============================] - 137s 3ms/step - loss: 0.0381 - acc: 0.9881 - val_loss: 0.0490 - val_acc: 0.9852\n",
            "Epoch 5/20\n",
            "48000/48000 [==============================] - 137s 3ms/step - loss: 0.0319 - acc: 0.9909 - val_loss: 0.0534 - val_acc: 0.9831\n",
            "Epoch 6/20\n",
            "48000/48000 [==============================] - 136s 3ms/step - loss: 0.0272 - acc: 0.9916 - val_loss: 0.0483 - val_acc: 0.9867\n",
            "Epoch 7/20\n",
            "48000/48000 [==============================] - 138s 3ms/step - loss: 0.0230 - acc: 0.9931 - val_loss: 0.0470 - val_acc: 0.9876\n",
            "Epoch 8/20\n",
            "48000/48000 [==============================] - 139s 3ms/step - loss: 0.0195 - acc: 0.9942 - val_loss: 0.0476 - val_acc: 0.9867\n",
            "Epoch 9/20\n",
            "48000/48000 [==============================] - 140s 3ms/step - loss: 0.0168 - acc: 0.9951 - val_loss: 0.0559 - val_acc: 0.9837\n",
            "Epoch 10/20\n",
            "48000/48000 [==============================] - 139s 3ms/step - loss: 0.0147 - acc: 0.9959 - val_loss: 0.0497 - val_acc: 0.9863\n",
            "Epoch 11/20\n",
            "48000/48000 [==============================] - 140s 3ms/step - loss: 0.0120 - acc: 0.9968 - val_loss: 0.0503 - val_acc: 0.9867\n",
            "Epoch 12/20\n",
            "48000/48000 [==============================] - 140s 3ms/step - loss: 0.0104 - acc: 0.9971 - val_loss: 0.0478 - val_acc: 0.9875\n",
            "Epoch 13/20\n",
            "48000/48000 [==============================] - 141s 3ms/step - loss: 0.0087 - acc: 0.9978 - val_loss: 0.0552 - val_acc: 0.9861\n",
            "Epoch 14/20\n",
            "48000/48000 [==============================] - 141s 3ms/step - loss: 0.0075 - acc: 0.9980 - val_loss: 0.0547 - val_acc: 0.9862\n",
            "Epoch 15/20\n",
            "48000/48000 [==============================] - 142s 3ms/step - loss: 0.0062 - acc: 0.9986 - val_loss: 0.0535 - val_acc: 0.9874\n",
            "Epoch 16/20\n",
            "48000/48000 [==============================] - 142s 3ms/step - loss: 0.0052 - acc: 0.9987 - val_loss: 0.0565 - val_acc: 0.9877\n",
            "Epoch 17/20\n",
            "48000/48000 [==============================] - 153s 3ms/step - loss: 0.0042 - acc: 0.9989 - val_loss: 0.0559 - val_acc: 0.9872\n",
            "Epoch 18/20\n",
            "48000/48000 [==============================] - 198s 4ms/step - loss: 0.0033 - acc: 0.9991 - val_loss: 0.0645 - val_acc: 0.9858\n",
            "Epoch 19/20\n",
            "48000/48000 [==============================] - 146s 3ms/step - loss: 0.0027 - acc: 0.9993 - val_loss: 0.0615 - val_acc: 0.9869\n",
            "Epoch 20/20\n",
            "48000/48000 [==============================] - 148s 3ms/step - loss: 0.0024 - acc: 0.9995 - val_loss: 0.0635 - val_acc: 0.9870\n",
            "training done...\n"
          ],
          "name": "stdout"
        }
      ]
    },
    {
      "cell_type": "code",
      "metadata": {
        "id": "lEmU2ZbBuT5M",
        "colab_type": "code",
        "outputId": "c950c87d-8cb2-4cef-8846-fb676333e14d",
        "colab": {
          "base_uri": "https://localhost:8080/",
          "height": 69
        }
      },
      "source": [
        "# evaluating the model\n",
        "\n",
        "score = model.evaluate(X_test, Y_test, verbose=1)\n",
        "print('loss:', score[0])\n",
        "print('accuracy:', score[1])"
      ],
      "execution_count": 0,
      "outputs": [
        {
          "output_type": "stream",
          "text": [
            "10000/10000 [==============================] - 9s 854us/step\n",
            "loss: 0.04984849542057154\n",
            "accuracy: 0.9895\n"
          ],
          "name": "stdout"
        }
      ]
    },
    {
      "cell_type": "code",
      "metadata": {
        "id": "Mrs155-xiIDI",
        "colab_type": "code",
        "outputId": "27b7212c-439a-48c7-dd17-752bf6065100",
        "colab": {
          "base_uri": "https://localhost:8080/",
          "height": 34
        }
      },
      "source": [
        "#printing metrices\n",
        "print (model.metrics_names)"
      ],
      "execution_count": 0,
      "outputs": [
        {
          "output_type": "stream",
          "text": [
            "['loss', 'acc']\n"
          ],
          "name": "stdout"
        }
      ]
    },
    {
      "cell_type": "code",
      "metadata": {
        "id": "npPQMD752vA9",
        "colab_type": "code",
        "outputId": "6cec7c80-8367-4a3f-9994-d7ed3cda9656",
        "colab": {
          "base_uri": "https://localhost:8080/",
          "height": 330
        }
      },
      "source": [
        "# print model summary\n",
        "print(model.summary())"
      ],
      "execution_count": 0,
      "outputs": [
        {
          "output_type": "stream",
          "text": [
            "_________________________________________________________________\n",
            "Layer (type)                 Output Shape              Param #   \n",
            "=================================================================\n",
            "conv2d_3 (Conv2D)            (None, 26, 26, 32)        320       \n",
            "_________________________________________________________________\n",
            "conv2d_4 (Conv2D)            (None, 24, 24, 64)        18496     \n",
            "_________________________________________________________________\n",
            "max_pooling2d_2 (MaxPooling2 (None, 12, 12, 64)        0         \n",
            "_________________________________________________________________\n",
            "flatten_2 (Flatten)          (None, 9216)              0         \n",
            "_________________________________________________________________\n",
            "dense_2 (Dense)              (None, 10)                92170     \n",
            "=================================================================\n",
            "Total params: 110,986\n",
            "Trainable params: 110,986\n",
            "Non-trainable params: 0\n",
            "_________________________________________________________________\n",
            "None\n"
          ],
          "name": "stdout"
        }
      ]
    },
    {
      "cell_type": "code",
      "metadata": {
        "id": "LdB0OsTOeDga",
        "colab_type": "code",
        "outputId": "7c570f7d-2f4d-4876-f68b-749e22bbbd26",
        "colab": {
          "base_uri": "https://localhost:8080/",
          "height": 590
        }
      },
      "source": [
        "# to visualize the performance with plots\n",
        "import matplotlib.pyplot as plt\n",
        "# list all data in history\n",
        "print(history.history.keys())\n",
        "# summarize history for accuracy\n",
        "plt.plot(history.history['acc'])\n",
        "plt.plot(history.history['val_acc'])\n",
        "plt.title('model accuracy')\n",
        "plt.ylabel('accuracy')\n",
        "plt.xlabel('epoch')\n",
        "plt.legend(['train', 'test'], loc='upper left')\n",
        "plt.show()\n",
        "# summarize history for loss\n",
        "plt.plot(history.history['loss'])\n",
        "plt.plot(history.history['val_loss'])\n",
        "plt.title('model loss')\n",
        "plt.ylabel('loss')\n",
        "plt.xlabel('epoch')\n",
        "plt.legend(['train', 'test'], loc='upper left')\n",
        "plt.show()"
      ],
      "execution_count": 0,
      "outputs": [
        {
          "output_type": "stream",
          "text": [
            "dict_keys(['val_loss', 'val_acc', 'loss', 'acc'])\n"
          ],
          "name": "stdout"
        },
        {
          "output_type": "display_data",
          "data": {
            "image/png": "[encoded data removed]",
            "text/plain": [
              "<Figure size 432x288 with 1 Axes>"
            ]
          },
          "metadata": {
            "tags": []
          }
        },
        {
          "output_type": "display_data",
          "data": {
            "image/png": "[encoded data removed]",
            "text/plain": [
              "<Figure size 432x288 with 1 Axes>"
            ]
          },
          "metadata": {
            "tags": []
          }
        }
      ]
    },
    {
      "cell_type": "markdown",
      "metadata": {
        "id": "YLuTzBk7-K3w",
        "colab_type": "text"
      },
      "source": [
        " Improving Performance\n",
        " \n",
        " > Different architecture (such as provided in code)\n",
        " \n",
        ">  Number of layers\n",
        "\n",
        "> Different layers: dropout etc.\n",
        "\n",
        "> Different hperparameters: number of filters, stride, and padding\n",
        "\n",
        "> Different learning rate for optimizer\n",
        "\n",
        "> batch size\n",
        "\n",
        "> with different optimizers\n",
        "\n",
        "> with more number of epochs\n",
        "\n",
        "> Controlling the optimizer learning rate\n",
        "\n",
        "> Increasing the size of batch computation\n",
        "\n",
        "\n",
        "\n",
        "\n"
      ]
    }
  ]
}